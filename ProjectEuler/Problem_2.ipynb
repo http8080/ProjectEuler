{
 "cells": [
  {
   "cell_type": "markdown",
   "metadata": {},
   "source": [
    "피보나치 수열에서 4백만 이하이면서 짝수인 항의 합\n",
    "피보나치(Fibonacci) 수열의 각 항은 바로 앞의 항 두 개를 더한 것입니다. 1과 2로 시작하는 경우 이 수열은 아래와 같습니다.\n",
    "1, 2, 3, 5, 8, 13, 21, 34, 55, 89, ...\n",
    "4백만 이하의 짝수 값을 갖는 모든 피보나치 항을 더하면 얼마가 됩니까?"
   ]
  },
  {
   "cell_type": "code",
   "execution_count": 1,
   "metadata": {},
   "outputs": [
    {
     "name": "stdout",
     "output_type": "stream",
     "text": [
      "4613732\n"
     ]
    }
   ],
   "source": [
    "a=[1,2]\n",
    "s=0\n",
    "for i in range(0,10000):\n",
    "    a.append(a[i]+a[i+1])\n",
    "    if a[i]<=4000000 and a[i]%2==0:\n",
    "        s+=a[i]\n",
    "print(s)"
   ]
  }
 ],
 "metadata": {
  "interpreter": {
   "hash": "f18ff2b330becd7f0f7b2a95497a5ea1f0c355e05198e1f7eda98574cc531780"
  },
  "kernelspec": {
   "display_name": "Python 3.8.12 ('py3.8')",
   "language": "python",
   "name": "python3"
  },
  "language_info": {
   "codemirror_mode": {
    "name": "ipython",
    "version": 3
   },
   "file_extension": ".py",
   "mimetype": "text/x-python",
   "name": "python",
   "nbconvert_exporter": "python",
   "pygments_lexer": "ipython3",
   "version": "3.8.12"
  },
  "orig_nbformat": 4
 },
 "nbformat": 4,
 "nbformat_minor": 2
}
