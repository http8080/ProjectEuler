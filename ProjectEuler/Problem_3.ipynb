{
 "cells": [
  {
   "cell_type": "markdown",
   "metadata": {},
   "source": [
    "가장 큰 소인수 구하기\n",
    "어떤 수를 소수의 곱으로만 나타내는 것을 소인수분해라 하고, 이 소수들을 그 수의 소인수라고 합니다.\n",
    "예를 들면 13195의 소인수는 5, 7, 13, 29 입니다.\n",
    "600851475143의 소인수 중에서 가장 큰 수를 구하세요"
   ]
  },
  {
   "cell_type": "code",
   "execution_count": 1,
   "metadata": {},
   "outputs": [
    {
     "name": "stdout",
     "output_type": "stream",
     "text": [
      "효율적인 소인수분해 결과 [71, 839, 1471, 6857]\n"
     ]
    }
   ],
   "source": [
    "# 효율적인 소인수 분해\n",
    "def factorize2(n):\n",
    "    factor = 2 #시작 소수 지정\n",
    "    factors = []\n",
    "    while (factor**2 <= n):  # 에라토스테네스를 떠올리며,, 즉 루트n까지 실행\n",
    "        while (n % factor == 0):  # 소수로 나누어 떨어지면(= 즉 약수면)\n",
    "            factors.append(factor)  # 리스트에 추가\n",
    "            n = n // factor  # n을 몫으로 변경\n",
    "        factor += 1\n",
    "    if n > 1 : # 1보다 크고 factor**2(4)보다 작은 경우 n은 소수임으로 append -> 2,3 경우\n",
    "        factors.append(n)\n",
    "\n",
    "    return factors\n",
    "\n",
    "print('효율적인 소인수분해 결과', factorize2(600851475143))"
   ]
  }
 ],
 "metadata": {
  "interpreter": {
   "hash": "f18ff2b330becd7f0f7b2a95497a5ea1f0c355e05198e1f7eda98574cc531780"
  },
  "kernelspec": {
   "display_name": "Python 3.8.12 ('py3.8')",
   "language": "python",
   "name": "python3"
  },
  "language_info": {
   "codemirror_mode": {
    "name": "ipython",
    "version": 3
   },
   "file_extension": ".py",
   "mimetype": "text/x-python",
   "name": "python",
   "nbconvert_exporter": "python",
   "pygments_lexer": "ipython3",
   "version": "3.8.12"
  },
  "orig_nbformat": 4
 },
 "nbformat": 4,
 "nbformat_minor": 2
}
